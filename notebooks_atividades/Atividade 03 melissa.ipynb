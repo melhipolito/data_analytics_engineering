{
 "cells": [
  {
   "attachments": {},
   "cell_type": "markdown",
   "id": "ebfbea4e",
   "metadata": {},
   "source": [
    "# Atividade 3\n",
    "\n",
    "Faça tudo via dbt. \n",
    "\n",
    "Envia como resposta:\n",
    "- A query SQL\n",
    "- Comando utilizado via terminal no `dbt`\n",
    "- Um print do resultado no próprio notebook, para isso é necessário criar uma pasta no repositório onde serão armazenadas as imagens, e para inserir no notebook é necessário criar uma célula `markdown` e inserir o seguinte comando: \n",
    "\n",
    "```markdown\n",
    "![Nome da Foto](path/para/imagem)\n",
    "```"
   ]
  },
  {
   "attachments": {},
   "cell_type": "markdown",
   "id": "c0c42967",
   "metadata": {},
   "source": [
    "1. Crie uma tabela `orders_by_year` a partir de `orders` que agrupa a quantidade de pedidos por ano, considerando a coluna `order_approved_at`"
   ]
  },
  {
   "attachments": {},
   "cell_type": "markdown",
   "id": "532bc6d2",
   "metadata": {},
   "source": [
    "RESPOSTA\n",
    "comando:\n",
    "dbt run --models orders_by_year.sql\n",
    "\n",
    "query:\n",
    "{{ config(materialized='table') }}\n",
    "\n",
    "   SELECT  extract( year from order_approved_at) orders_year , count(1) qtd_orders\n",
    "   FROM \n",
    "      `dbt-shop-melhipolito.dbt_shop.orders` \n",
    "   WHERE \n",
    "      order_approved_at is not null\n",
    "   GROUP BY extract( year from order_approved_at)\n",
    "\n",
    "imagem:\n",
    "![exercicio_1](imagens_atividade_03/exercicio_1.png)   "
   ]
  },
  {
   "attachments": {},
   "cell_type": "markdown",
   "id": "aa520524",
   "metadata": {},
   "source": [
    "2. Crie uma `view` que agrega os totais de pedidos por estado. Considere as tabelas _customers_ para obter os estados (coluna _customer_state_) e _orders_ para contabilizar a quantidade de pedidos."
   ]
  },
  {
   "cell_type": "markdown",
   "id": "63d0e06a",
   "metadata": {},
   "source": [
    "RESPOSTA:\n",
    "\n",
    "comando:\n",
    "dbt run --models view_orders.sql\n",
    "\n",
    "query:\n",
    "{{ config(materialized='view') }}\n",
    "\n",
    "   select count(1) orders_total, c.customer_state\n",
    "    from dbt_shop.customers c\n",
    "    inner join dbt_shop.orders o on c.customer_id = o.customer_id\n",
    "    group by c.customer_state\n",
    "    order by c.customer_state"
   ]
  },
  {
   "attachments": {},
   "cell_type": "markdown",
   "id": "54e0e5f1",
   "metadata": {},
   "source": [
    "3. De acordo com o resultado do exercício 2 retorne apenas os estados que tem mais de 5000 pedidos, esse número deve ser passado via variável `number_of_orders` do `dbt`."
   ]
  },
  {
   "cell_type": "markdown",
   "id": "0d257d73",
   "metadata": {},
   "source": [
    "RESPOSTA:\n",
    "\n",
    "comando:\n",
    "dbt run --models view_orders.sql --vars \"{'number_of_orders': 5000}\"\n",
    "\n",
    "query:\n",
    "{{ config(materialized='view') }}\n",
    "\n",
    "   select * from (\n",
    "      select count(1) orders_total, c.customer_state\n",
    "      from dbt_shop.customers c\n",
    "      inner join dbt_shop.orders o on c.customer_id = o.customer_id\n",
    "      group by c.customer_state\n",
    "      order by c.customer_state) t\n",
    "   where t.orders_total  > cast('{{ var(\"number_of_orders\") }}' as int64)"
   ]
  },
  {
   "attachments": {},
   "cell_type": "markdown",
   "id": "9c3ad0cc",
   "metadata": {},
   "source": [
    "4. Crie uma `view` chamada `customers_by_region` que utiliza os dados da tabela `customers`. A visão deve realizar uma agregação por região do Brasil (Norte, Nordeste, Sudeste, Centro Oeste e Sul) e contar o número de clientes em cada uma delas."
   ]
  },
  {
   "cell_type": "markdown",
   "id": "5e721a6a",
   "metadata": {},
   "source": [
    "RESPOSTA:\n",
    "\n",
    "comando:\n",
    "dbt run --models customers_by_region.sql\n",
    "\n",
    "query:\n",
    "{{ config(materialized='view') }}\n",
    "\n",
    "   select count(1) customers_total,\n",
    "       case when c.customer_state in ('SP','MG','ES','RJ') then\n",
    "        'Sudeste'\n",
    "       when c.customer_state in ('PR','RS','SC') then\n",
    "        'Sul'\n",
    "       when c.customer_state in ('AM','RR','PA','AM','TO','RO','AC') then       \n",
    "        'Norte'\n",
    "       when c.customer_state in ('CE','PI','MA','BA','RN','PB','PE','AL','SE') then\n",
    "        'Nordeste'\n",
    "       else\n",
    "        'Centro Oeste' end\n",
    "       as region\n",
    "    from dbt_shop.customers c\n",
    "    group by case when c.customer_state in ('SP','MG','ES','RJ') then\n",
    "        'Sudeste'\n",
    "       when c.customer_state in ('PR','RS','SC') then\n",
    "        'Sul'\n",
    "       when c.customer_state in ('AM','RR','PA','AM','TO','RO','AC') then       \n",
    "        'Norte'\n",
    "       when c.customer_state in ('CE','PI','MA','BA','RN','PB','PE','AL','SE') then\n",
    "        'Nordeste'\n",
    "       else\n",
    "        'Centro Oeste' end\n"
   ]
  },
  {
   "attachments": {},
   "cell_type": "markdown",
   "id": "d4c16290",
   "metadata": {},
   "source": [
    "5. Crie uma tabela `items_costs` que contenha o preço total de um item (soma do valor do produto com o frete)."
   ]
  },
  {
   "cell_type": "markdown",
   "id": "406ac752",
   "metadata": {},
   "source": [
    "RESPOSTA:\n",
    "\n",
    "comando:\n",
    " dbt run --models items_costs.sql   \n",
    "\n",
    "query:\n",
    "{{ config(materialized='table') }}\n",
    "\n",
    "   select (i.freight_value + i.price) item_price,\n",
    "       i.product_id\n",
    "    from dbt_shop.items i\n",
    "    order by i.product_id"
   ]
  },
  {
   "attachments": {},
   "cell_type": "markdown",
   "id": "08cc4c02",
   "metadata": {},
   "source": [
    "6. Crie uma `view` com o nome `orders_shipped_costs`, você deve calcular o preço total do pedido somado com o frete, apenas para pedidos enviado (shipped)."
   ]
  },
  {
   "cell_type": "markdown",
   "id": "06abf682",
   "metadata": {},
   "source": [
    "RESPOSTA:\n",
    "\n",
    "comando:\n",
    "dbt run --models orders_shipped_costs.sql\n",
    "\n",
    "query:\n",
    "{{ config(materialized='view') }}\n",
    "\n",
    "   select trunc(sum(ic.item_price ),2) order_costs,\n",
    "       o.order_id\n",
    "    from dbt_shop.orders o,\n",
    "        dbt_shop.items i,\n",
    "        dataset_melhipolito.items_costs ic\n",
    "    where o.order_status = 'shipped'\n",
    "    and   o.order_id = i.order_id\n",
    "    and   i.product_id = ic.product_id\n",
    "    group by o.order_id"
   ]
  }
 ],
 "metadata": {
  "kernelspec": {
   "display_name": "Python 3",
   "language": "python",
   "name": "python3"
  },
  "language_info": {
   "codemirror_mode": {
    "name": "ipython",
    "version": 3
   },
   "file_extension": ".py",
   "mimetype": "text/x-python",
   "name": "python",
   "nbconvert_exporter": "python",
   "pygments_lexer": "ipython3",
   "version": "3.9.1"
  }
 },
 "nbformat": 4,
 "nbformat_minor": 5
}
